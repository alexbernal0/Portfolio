{
 "cells": [
  {
   "cell_type": "markdown",
   "metadata": {},
   "source": [
    "**Part 1**\n",
    "\n",
    "- Consider a mutual fund with beta of 0.8 which has an expected rate of return of 14%. If risk-free rate of return is rf = 5%, and you expect the rate of return on market portfolio to be 15%.\n",
    "\n",
    "- Use Python to address the following questions:\n",
    "\n",
    "- Would you be interested in investing in the fund? If so, what is the Alpha of the fund.\n",
    "- What passive portfolio comprised of a market-index portfolio and a money-market account would have the same beta as the fund?\n",
    "- Note: show that the difference between the expected rate of return on this passive portfolio and that of the fund equals the alpha from question "
   ]
  },
  {
   "cell_type": "code",
   "execution_count": 149,
   "metadata": {},
   "outputs": [
    {
     "name": "stdout",
     "output_type": "stream",
     "text": [
      "0.082\n"
     ]
    }
   ],
   "source": [
    "b = 0.08 #beta\n",
    "expRet = .14 #expected return Fund\n",
    "rf = .05 #riskfree rate\n",
    "expRtM = .15 #mkt return\n",
    "\n",
    "#expRet = rf + b (expRtm - rf) + A\n",
    "A = expRet - rf - b * (expRtM - rf)\n",
    "print(A)"
   ]
  },
  {
   "cell_type": "markdown",
   "metadata": {},
   "source": [
    "**Would i be interested in this fund**\n",
    "- sure it beats the market by 8.2%\n"
   ]
  },
  {
   "cell_type": "code",
   "execution_count": 150,
   "metadata": {},
   "outputs": [
    {
     "name": "stdout",
     "output_type": "stream",
     "text": [
      "0.108\n"
     ]
    }
   ],
   "source": [
    "b = 0.08 #same beta\n",
    "rf = .05 #risk free\n",
    "expM = 0.15 #market exp return\n",
    "\n",
    "#expR\n",
    "expP = expM\n",
    "\n",
    "A = expM - rf + b*(expM - rf)\n",
    "print(A)"
   ]
  },
  {
   "cell_type": "code",
   "execution_count": null,
   "metadata": {
    "collapsed": true
   },
   "outputs": [],
   "source": []
  },
  {
   "cell_type": "markdown",
   "metadata": {},
   "source": [
    "**Part 2**\n",
    "Consider the following data for a one-factor economy. All portfolios are assumed to be well diversified\n",
    "\n",
    "- Portfolio     Exp Return     Beta\n",
    "- A             12% - 20%       1.2-1.7\n",
    "- F             6%-9%          0.0-0.9\n",
    "\n",
    "Note: Consider that Expected Return changes in step sizes of 1% (e.g. Portfolio A can have expected returns of 12%,13%,…19%,20%) and Beta change in step sizes of 0.1 (e.g Portfolio F can have Beta values of 0.0,0.1,0.2,….0.8,0.9)\n",
    "\n",
    "Suppose that another portfolio, portfolio E, is well diversified with a beta of 0.6 and expected return of 8%.\n",
    "\n",
    "For which range of values of Expected Return and Beta would an arbitrage opportunity exist?\n",
    "Develop a simple strategy in Python to exploit the most of the juice out of the arbitrage opportunity strategy for each of the cases\n",
    "Plot the risk-reward profiles of these strategies (for each set of combination of Expected Return and Beta for Portfolio A & F) and discuss"
   ]
  },
  {
   "cell_type": "code",
   "execution_count": 151,
   "metadata": {
    "collapsed": true
   },
   "outputs": [],
   "source": [
    "import pylab as pl\n",
    "\n",
    "Aer = pl.frange(0.12, 0.20, 0.01) #port A exp Returns\n",
    "Fer = pl.frange(0.06, 0.09, 0.01) #port F exp Returns\n",
    "\n",
    "Ab = pl.frange(1.2, 1.7, 0.1)     #port A exp Beta\n",
    "Fb = pl.frange(0.0, 0.9, 0.1)     #port F exp Beta\n",
    "\n",
    "Er = .08\n",
    "Eb = .6\n"
   ]
  },
  {
   "cell_type": "markdown",
   "metadata": {},
   "source": [
    "**Part 3**\n",
    "\n",
    "Suppose the economy can be in one of the following two states:\n",
    "\n",
    "Boom or “good” state and\n",
    "Recession or “bad” state.\n",
    "Each state can occur with an equal opportunity. The annual return on the market and a certain security X in the two states of the economy are as follows:\n",
    "\n",
    "Market: at the end of the year, the market is expected to yield a return of 30% in the good state and a return of (-10%) in the bad state;\n",
    "Security X: at the end of the year, the security is expected to yield a return of 40% in the good state and a return of (-35%) in the bad state;\n",
    "Furthermore, assume that annual risk-free rate of return is 5%.\n",
    "\n",
    "Write a Python Program to calculate the beta of security X relative to the market.\n",
    "Furthermore, calculate the alpha of security X using CAPM.\n",
    "Draw the security market line (SML). Label the axes and all points (including the market portfolio, the risk-free security, and security X) in the graph clearly. Identify alpha in the graph."
   ]
  },
  {
   "cell_type": "code",
   "execution_count": 152,
   "metadata": {
    "collapsed": true
   },
   "outputs": [],
   "source": [
    "mktg = .30\n",
    "mktb = -.10\n",
    "\n",
    "Xg = .40\n",
    "Xb = -.35\n",
    "\n",
    "rf = .05\n"
   ]
  },
  {
   "cell_type": "code",
   "execution_count": 153,
   "metadata": {},
   "outputs": [
    {
     "data": {
      "text/html": [
       "<div>\n",
       "<table border=\"1\" class=\"dataframe\">\n",
       "  <thead>\n",
       "    <tr style=\"text-align: right;\">\n",
       "      <th></th>\n",
       "      <th>MktPerf</th>\n",
       "      <th>MktSec</th>\n",
       "    </tr>\n",
       "  </thead>\n",
       "  <tbody>\n",
       "    <tr>\n",
       "      <th>Good</th>\n",
       "      <td>0.30</td>\n",
       "      <td>0.40</td>\n",
       "    </tr>\n",
       "    <tr>\n",
       "      <th>Bad</th>\n",
       "      <td>-0.15</td>\n",
       "      <td>-0.35</td>\n",
       "    </tr>\n",
       "  </tbody>\n",
       "</table>\n",
       "</div>"
      ],
      "text/plain": [
       "      MktPerf  MktSec\n",
       "Good     0.30    0.40\n",
       "Bad     -0.15   -0.35"
      ]
     },
     "execution_count": 153,
     "metadata": {},
     "output_type": "execute_result"
    }
   ],
   "source": [
    "import pandas as pd\n",
    "import numpy as np\n",
    "\n",
    "data = {'MktSec': [0.40, -0.35], 'MktPerf': [0.30, -0.15]}\n",
    "                   \n",
    "df = pd.DataFrame(data, index = ['Good', 'Bad'])\n",
    "df"
   ]
  },
  {
   "cell_type": "code",
   "execution_count": 154,
   "metadata": {},
   "outputs": [
    {
     "data": {
      "text/html": [
       "<div>\n",
       "<table border=\"1\" class=\"dataframe\">\n",
       "  <thead>\n",
       "    <tr style=\"text-align: right;\">\n",
       "      <th></th>\n",
       "      <th>MktPerf</th>\n",
       "      <th>MktSec</th>\n",
       "    </tr>\n",
       "  </thead>\n",
       "  <tbody>\n",
       "    <tr>\n",
       "      <th>MktPerf</th>\n",
       "      <td>25.3125</td>\n",
       "      <td>42.1875</td>\n",
       "    </tr>\n",
       "    <tr>\n",
       "      <th>MktSec</th>\n",
       "      <td>42.1875</td>\n",
       "      <td>70.3125</td>\n",
       "    </tr>\n",
       "  </tbody>\n",
       "</table>\n",
       "</div>"
      ],
      "text/plain": [
       "         MktPerf   MktSec\n",
       "MktPerf  25.3125  42.1875\n",
       "MktSec   42.1875  70.3125"
      ]
     },
     "execution_count": 154,
     "metadata": {},
     "output_type": "execute_result"
    }
   ],
   "source": [
    "cov = df.cov() * 250\n",
    "cov"
   ]
  },
  {
   "cell_type": "code",
   "execution_count": 155,
   "metadata": {},
   "outputs": [
    {
     "data": {
      "text/plain": [
       "42.187499999999993"
      ]
     },
     "execution_count": 155,
     "metadata": {},
     "output_type": "execute_result"
    }
   ],
   "source": [
    "cov_with_market = cov.iloc[0,1]\n",
    "cov_with_market"
   ]
  },
  {
   "cell_type": "code",
   "execution_count": 156,
   "metadata": {},
   "outputs": [
    {
     "data": {
      "text/plain": [
       "25.312499999999996"
      ]
     },
     "execution_count": 156,
     "metadata": {},
     "output_type": "execute_result"
    }
   ],
   "source": [
    "market_var = df['MktPerf'].var() * 250\n",
    "market_var"
   ]
  },
  {
   "cell_type": "markdown",
   "metadata": {},
   "source": [
    "** Beta: **\n",
    "### $$ \n",
    "\\beta_{pg} = \\frac{\\sigma_{pg,m}}{\\sigma_{m}}\n",
    "$$"
   ]
  },
  {
   "cell_type": "code",
   "execution_count": 157,
   "metadata": {},
   "outputs": [
    {
     "data": {
      "text/plain": [
       "1.6666666666666665"
      ]
     },
     "execution_count": 157,
     "metadata": {},
     "output_type": "execute_result"
    }
   ],
   "source": [
    "MktSecBeta = cov_with_market / market_var\n",
    "MktSecBeta"
   ]
  },
  {
   "cell_type": "markdown",
   "metadata": {},
   "source": [
    "**Calculate the Alpa of Port (CAPM):**\n",
    "### $$\n",
    "\\alpha = \\overline{r_{pg}} - r_f - \\beta_{pg}(\\overline{r_{m}} - r_f) \n",
    "$$"
   ]
  },
  {
   "cell_type": "code",
   "execution_count": 158,
   "metadata": {},
   "outputs": [
    {
     "name": "stdout",
     "output_type": "stream",
     "text": [
      "Good    0.183333\n",
      "Bad    -0.566667\n",
      "Name: MktSec, dtype: float64\n"
     ]
    }
   ],
   "source": [
    "epM = df['MktPerf']\n",
    "epRet = df['MktSec']\n",
    "b = MktSecBeta\n",
    "rfx = 0.05\n",
    "\n",
    "Ax = epRet - rfx - b * (expRtM - rfx)\n",
    "print(Ax)"
   ]
  },
  {
   "cell_type": "code",
   "execution_count": 159,
   "metadata": {},
   "outputs": [
    {
     "data": {
      "image/png": "[encoded data removed]",
      "text/plain": [
       "<matplotlib.figure.Figure at 0xfc637f0>"
      ]
     },
     "metadata": {},
     "output_type": "display_data"
    }
   ],
   "source": [
    "from scipy import stats\n",
    "import statsmodels.api as sm \n",
    "import matplotlib.pyplot as plt\n",
    "import numpy as np\n",
    "\n",
    "\n",
    "X = df['MktPerf']\n",
    "Y = df['MktSec']\n",
    "\n",
    "plt.scatter(X,Y)\n",
    "plt.ylabel('MktSec')\n",
    "plt.xlabel('MktPerf')\n",
    "plt.show()"
   ]
  },
  {
   "cell_type": "code",
   "execution_count": 160,
   "metadata": {},
   "outputs": [
    {
     "name": "stdout",
     "output_type": "stream",
     "text": [
      "(0.59999999999999998, 0.059999999999999984)\n"
     ]
    }
   ],
   "source": [
    "beta, alpha, r_value, p_value, std_err = stats.linregress(Y,X)\n",
    "print(beta, alpha)"
   ]
  },
  {
   "cell_type": "code",
   "execution_count": 161,
   "metadata": {},
   "outputs": [
    {
     "name": "stdout",
     "output_type": "stream",
     "text": [
      "                            OLS Regression Results                            \n",
      "==============================================================================\n",
      "Dep. Variable:                 MktSec   R-squared:                       0.936\n",
      "Model:                            OLS   Adj. R-squared:                  0.873\n",
      "Method:                 Least Squares   F-statistic:                     14.69\n",
      "Date:                Sat, 08 Jul 2017   Prob (F-statistic):              0.162\n",
      "Time:                        18:48:29   Log-Likelihood:                 1.8727\n",
      "No. Observations:                   2   AIC:                            -1.745\n",
      "Df Residuals:                       1   BIC:                            -3.052\n",
      "Df Model:                           1                                         \n",
      "Covariance Type:            nonrobust                                         \n",
      "==============================================================================\n",
      "                 coef    std err          t      P>|t|      [0.025      0.975]\n",
      "------------------------------------------------------------------------------\n",
      "MktPerf        1.5333      0.400      3.833      0.162      -3.549       6.616\n",
      "==============================================================================\n",
      "Omnibus:                          nan   Durbin-Watson:                   0.200\n",
      "Prob(Omnibus):                    nan   Jarque-Bera (JB):                0.333\n",
      "Skew:                           0.000   Prob(JB):                        0.846\n",
      "Kurtosis:                       1.000   Cond. No.                         1.00\n",
      "==============================================================================\n",
      "\n",
      "Warnings:\n",
      "[1] Standard Errors assume that the covariance matrix of the errors is correctly specified.\n"
     ]
    }
   ],
   "source": [
    "# creating the model\n",
    "model = sm.OLS(Y,X).fit()\n",
    "\n",
    "# lets see what we got so far\n",
    "print(model.summary())"
   ]
  },
  {
   "cell_type": "code",
   "execution_count": 162,
   "metadata": {},
   "outputs": [
    {
     "data": {
      "image/png": "[encoded data removed]",
      "text/plain": [
       "<matplotlib.figure.Figure at 0x11d4e390>"
      ]
     },
     "metadata": {},
     "output_type": "display_data"
    }
   ],
   "source": [
    "import seaborn as sns\n",
    "X = df['MktPerf']\n",
    "Y = df['MktSec']\n",
    "sns.lmplot(x=\"MktSec\", y=\"MktPerf\", data=df);"
   ]
  },
  {
   "cell_type": "markdown",
   "metadata": {},
   "source": [
    "**Part 4**\n",
    "\n",
    "In the Unit 3 Mini Project, you wrote a Python program to download data for S&P 500 and quantitatively identified Bull and Bear Phases. As an extension of the same project, now do the following:\n",
    "\n",
    "Run the same program on last 25 years (1990-2015) of S&P 500 data and identify the frequency and duration (in days) of Bull and Bear Periods. What inferences can you draw from this statistic."
   ]
  },
  {
   "cell_type": "code",
   "execution_count": 163,
   "metadata": {},
   "outputs": [
    {
     "data": {
      "text/html": [
       "<div>\n",
       "<table border=\"1\" class=\"dataframe\">\n",
       "  <thead>\n",
       "    <tr style=\"text-align: right;\">\n",
       "      <th></th>\n",
       "      <th>mid</th>\n",
       "    </tr>\n",
       "    <tr>\n",
       "      <th>Date</th>\n",
       "      <th></th>\n",
       "    </tr>\n",
       "  </thead>\n",
       "  <tbody>\n",
       "    <tr>\n",
       "      <th>2001-07-05</th>\n",
       "      <td>121.68</td>\n",
       "    </tr>\n",
       "    <tr>\n",
       "      <th>2001-07-06</th>\n",
       "      <td>119.05</td>\n",
       "    </tr>\n",
       "    <tr>\n",
       "      <th>2001-07-09</th>\n",
       "      <td>119.70</td>\n",
       "    </tr>\n",
       "    <tr>\n",
       "      <th>2001-07-10</th>\n",
       "      <td>118.26</td>\n",
       "    </tr>\n",
       "    <tr>\n",
       "      <th>2001-07-11</th>\n",
       "      <td>118.38</td>\n",
       "    </tr>\n",
       "  </tbody>\n",
       "</table>\n",
       "</div>"
      ],
      "text/plain": [
       "               mid\n",
       "Date              \n",
       "2001-07-05  121.68\n",
       "2001-07-06  119.05\n",
       "2001-07-09  119.70\n",
       "2001-07-10  118.26\n",
       "2001-07-11  118.38"
      ]
     },
     "execution_count": 163,
     "metadata": {},
     "output_type": "execute_result"
    }
   ],
   "source": [
    "import pandas as pd\n",
    "from pandas_datareader import data, wb\n",
    "import numpy as np\n",
    "import datetime\n",
    "import matplotlib.pyplot as plt\n",
    "import seaborn as sns\n",
    "sns.set_style('whitegrid')\n",
    "%matplotlib inline\n",
    "\n",
    "####\n",
    "\n",
    "## 1. Download 15 yrs DJIA\n",
    "start = datetime.datetime(1993, 1, 23)\n",
    "end = datetime.datetime(2017, 6, 1)\n",
    "\n",
    "data = data.DataReader('spy',  'google', start, end)\n",
    "#df = data['Close']\n",
    "#returns = np.log(data / data.shift(1))\n",
    "data = data.iloc[:, :-1] #Remove Volume\n",
    "data['mid'] = data['Close'] #bad data from google need to just use close\n",
    "data = data.iloc[:, 4:]\n",
    "data = pd.DataFrame(data)\n",
    "\n",
    "###\n",
    "data.head()"
   ]
  },
  {
   "cell_type": "code",
   "execution_count": 164,
   "metadata": {},
   "outputs": [
    {
     "data": {
      "text/html": [
       "<div>\n",
       "<table border=\"1\" class=\"dataframe\">\n",
       "  <thead>\n",
       "    <tr style=\"text-align: right;\">\n",
       "      <th></th>\n",
       "      <th>mid</th>\n",
       "      <th>SMA</th>\n",
       "      <th>devs</th>\n",
       "    </tr>\n",
       "    <tr>\n",
       "      <th>Date</th>\n",
       "      <th></th>\n",
       "      <th></th>\n",
       "      <th></th>\n",
       "    </tr>\n",
       "  </thead>\n",
       "  <tbody>\n",
       "    <tr>\n",
       "      <th>2002-04-25</th>\n",
       "      <td>109.47</td>\n",
       "      <td>113.44345</td>\n",
       "      <td>-3.502582</td>\n",
       "    </tr>\n",
       "    <tr>\n",
       "      <th>2002-04-26</th>\n",
       "      <td>107.39</td>\n",
       "      <td>113.37200</td>\n",
       "      <td>-5.276435</td>\n",
       "    </tr>\n",
       "    <tr>\n",
       "      <th>2002-04-29</th>\n",
       "      <td>106.86</td>\n",
       "      <td>113.31105</td>\n",
       "      <td>-5.693222</td>\n",
       "    </tr>\n",
       "    <tr>\n",
       "      <th>2002-04-30</th>\n",
       "      <td>107.86</td>\n",
       "      <td>113.25185</td>\n",
       "      <td>-4.760938</td>\n",
       "    </tr>\n",
       "    <tr>\n",
       "      <th>2002-05-01</th>\n",
       "      <td>109.18</td>\n",
       "      <td>113.20645</td>\n",
       "      <td>-3.556732</td>\n",
       "    </tr>\n",
       "  </tbody>\n",
       "</table>\n",
       "</div>"
      ],
      "text/plain": [
       "               mid        SMA      devs\n",
       "Date                                   \n",
       "2002-04-25  109.47  113.44345 -3.502582\n",
       "2002-04-26  107.39  113.37200 -5.276435\n",
       "2002-04-29  106.86  113.31105 -5.693222\n",
       "2002-04-30  107.86  113.25185 -4.760938\n",
       "2002-05-01  109.18  113.20645 -3.556732"
      ]
     },
     "execution_count": 164,
     "metadata": {},
     "output_type": "execute_result"
    }
   ],
   "source": [
    "data['SMA'] = data.rolling(center=False,window=200).mean()\n",
    "data = data.dropna()\n",
    "data['devs'] = (data['mid'] - data['SMA']) / data['SMA'] * 100\n",
    "data.head()"
   ]
  },
  {
   "cell_type": "code",
   "execution_count": 165,
   "metadata": {},
   "outputs": [
    {
     "data": {
      "text/plain": [
       "array([<matplotlib.axes._subplots.AxesSubplot object at 0x0000000013642828>], dtype=object)"
      ]
     },
     "execution_count": 165,
     "metadata": {},
     "output_type": "execute_result"
    },
    {
     "data": {
      "image/png": "[encoded data removed]",
      "text/plain": [
       "<matplotlib.figure.Figure at 0x129bdeb8>"
      ]
     },
     "metadata": {},
     "output_type": "display_data"
    }
   ],
   "source": [
    "data[['mid','SMA']].plot(figsize=(15,10))\n",
    "data['devs'].plot(subplots=True,figsize=(15,10))\n"
   ]
  },
  {
   "cell_type": "code",
   "execution_count": 166,
   "metadata": {},
   "outputs": [
    {
     "data": {
      "text/plain": [
       "<matplotlib.axes._subplots.AxesSubplot at 0x136425f8>"
      ]
     },
     "execution_count": 166,
     "metadata": {},
     "output_type": "execute_result"
    },
    {
     "data": {
      "image/png": "[encoded data removed]",
      "text/plain": [
       "<matplotlib.figure.Figure at 0x12aa80f0>"
      ]
     },
     "metadata": {},
     "output_type": "display_data"
    }
   ],
   "source": [
    "data['position'] = np.where(data['mid'] > data['SMA'], 1, -1)\n",
    "data[['mid','SMA']].plot(figsize=(15,10))\n",
    "#data['devs'].plot(subplots=True,figsize=(15,10))"
   ]
  },
  {
   "cell_type": "code",
   "execution_count": 167,
   "metadata": {},
   "outputs": [
    {
     "data": {
      "text/plain": [
       "<matplotlib.axes._subplots.AxesSubplot at 0x13e6f8d0>"
      ]
     },
     "execution_count": 167,
     "metadata": {},
     "output_type": "execute_result"
    },
    {
     "data": {
      "image/png": "[encoded data removed]",
      "text/plain": [
       "<matplotlib.figure.Figure at 0x11fa51d0>"
      ]
     },
     "metadata": {},
     "output_type": "display_data"
    }
   ],
   "source": [
    "data['position'].plot(figsize=(15,10))"
   ]
  },
  {
   "cell_type": "code",
   "execution_count": 168,
   "metadata": {},
   "outputs": [
    {
     "data": {
      "text/html": [
       "<div>\n",
       "<table border=\"1\" class=\"dataframe\">\n",
       "  <thead>\n",
       "    <tr style=\"text-align: right;\">\n",
       "      <th></th>\n",
       "      <th>mid</th>\n",
       "      <th>SMA</th>\n",
       "      <th>devs</th>\n",
       "      <th>position</th>\n",
       "    </tr>\n",
       "    <tr>\n",
       "      <th>Date</th>\n",
       "      <th></th>\n",
       "      <th></th>\n",
       "      <th></th>\n",
       "      <th></th>\n",
       "    </tr>\n",
       "  </thead>\n",
       "  <tbody>\n",
       "    <tr>\n",
       "      <th>2002-04-25</th>\n",
       "      <td>109.47</td>\n",
       "      <td>113.44345</td>\n",
       "      <td>-3.502582</td>\n",
       "      <td>-1</td>\n",
       "    </tr>\n",
       "    <tr>\n",
       "      <th>2002-04-26</th>\n",
       "      <td>107.39</td>\n",
       "      <td>113.37200</td>\n",
       "      <td>-5.276435</td>\n",
       "      <td>-1</td>\n",
       "    </tr>\n",
       "    <tr>\n",
       "      <th>2002-04-29</th>\n",
       "      <td>106.86</td>\n",
       "      <td>113.31105</td>\n",
       "      <td>-5.693222</td>\n",
       "      <td>-1</td>\n",
       "    </tr>\n",
       "    <tr>\n",
       "      <th>2002-04-30</th>\n",
       "      <td>107.86</td>\n",
       "      <td>113.25185</td>\n",
       "      <td>-4.760938</td>\n",
       "      <td>-1</td>\n",
       "    </tr>\n",
       "    <tr>\n",
       "      <th>2002-05-01</th>\n",
       "      <td>109.18</td>\n",
       "      <td>113.20645</td>\n",
       "      <td>-3.556732</td>\n",
       "      <td>-1</td>\n",
       "    </tr>\n",
       "  </tbody>\n",
       "</table>\n",
       "</div>"
      ],
      "text/plain": [
       "               mid        SMA      devs  position\n",
       "Date                                             \n",
       "2002-04-25  109.47  113.44345 -3.502582        -1\n",
       "2002-04-26  107.39  113.37200 -5.276435        -1\n",
       "2002-04-29  106.86  113.31105 -5.693222        -1\n",
       "2002-04-30  107.86  113.25185 -4.760938        -1\n",
       "2002-05-01  109.18  113.20645 -3.556732        -1"
      ]
     },
     "execution_count": 168,
     "metadata": {},
     "output_type": "execute_result"
    }
   ],
   "source": [
    "data.head()"
   ]
  },
  {
   "cell_type": "markdown",
   "metadata": {},
   "source": [
    "- Download data for each of the following stocks for last 10 years till 2010 (2000-2010) and identify the frequency and duration (in days) of Bull and Bear Periods – EBAY, ORCL, GE, GM, PFE. \n",
    "- Also calculate the historical Beta of these stocks\n",
    "- Based on observations made for the overlapping 10 years period between the S&P500 and the 5 stocks, Rank them in their expected order out outperformance (Alpha Generation expectancy) for the next 5 years (2011-2015)\n",
    "- Compare and analyze the difference between expected Alpha and Actual Alpha generated in the 2011-2015 period."
   ]
  },
  {
   "cell_type": "code",
   "execution_count": 171,
   "metadata": {},
   "outputs": [
    {
     "data": {
      "text/html": [
       "<div>\n",
       "<table border=\"1\" class=\"dataframe\">\n",
       "  <thead>\n",
       "    <tr style=\"text-align: right;\">\n",
       "      <th></th>\n",
       "      <th>EBAY</th>\n",
       "      <th>F</th>\n",
       "      <th>GE</th>\n",
       "      <th>ORCL</th>\n",
       "      <th>PFE</th>\n",
       "      <th>SPY</th>\n",
       "    </tr>\n",
       "    <tr>\n",
       "      <th>Date</th>\n",
       "      <th></th>\n",
       "      <th></th>\n",
       "      <th></th>\n",
       "      <th></th>\n",
       "      <th></th>\n",
       "      <th></th>\n",
       "    </tr>\n",
       "  </thead>\n",
       "  <tbody>\n",
       "    <tr>\n",
       "      <th>2000-01-03</th>\n",
       "      <td>17.66</td>\n",
       "      <td>29.93</td>\n",
       "      <td>49.95</td>\n",
       "      <td>118.13</td>\n",
       "      <td>31.88</td>\n",
       "      <td>145.44</td>\n",
       "    </tr>\n",
       "    <tr>\n",
       "      <th>2000-01-04</th>\n",
       "      <td>16.00</td>\n",
       "      <td>28.93</td>\n",
       "      <td>48.06</td>\n",
       "      <td>107.69</td>\n",
       "      <td>30.75</td>\n",
       "      <td>139.75</td>\n",
       "    </tr>\n",
       "    <tr>\n",
       "      <th>2000-01-05</th>\n",
       "      <td>17.07</td>\n",
       "      <td>29.04</td>\n",
       "      <td>47.70</td>\n",
       "      <td>102.00</td>\n",
       "      <td>31.31</td>\n",
       "      <td>140.00</td>\n",
       "    </tr>\n",
       "    <tr>\n",
       "      <th>2000-01-06</th>\n",
       "      <td>16.86</td>\n",
       "      <td>29.07</td>\n",
       "      <td>48.51</td>\n",
       "      <td>96.00</td>\n",
       "      <td>32.31</td>\n",
       "      <td>139.56</td>\n",
       "    </tr>\n",
       "    <tr>\n",
       "      <th>2000-01-07</th>\n",
       "      <td>16.84</td>\n",
       "      <td>31.21</td>\n",
       "      <td>50.28</td>\n",
       "      <td>103.38</td>\n",
       "      <td>34.38</td>\n",
       "      <td>145.75</td>\n",
       "    </tr>\n",
       "  </tbody>\n",
       "</table>\n",
       "</div>"
      ],
      "text/plain": [
       "             EBAY      F     GE    ORCL    PFE     SPY\n",
       "Date                                                  \n",
       "2000-01-03  17.66  29.93  49.95  118.13  31.88  145.44\n",
       "2000-01-04  16.00  28.93  48.06  107.69  30.75  139.75\n",
       "2000-01-05  17.07  29.04  47.70  102.00  31.31  140.00\n",
       "2000-01-06  16.86  29.07  48.51   96.00  32.31  139.56\n",
       "2000-01-07  16.84  31.21  50.28  103.38  34.38  145.75"
      ]
     },
     "execution_count": 171,
     "metadata": {},
     "output_type": "execute_result"
    }
   ],
   "source": [
    "import pandas as pd\n",
    "from pandas_datareader import data, wb\n",
    "import numpy as np\n",
    "import datetime\n",
    "%matplotlib inline\n",
    "start = datetime.datetime(2000, 1, 1)\n",
    "end = datetime.datetime(2010, 1, 1)\n",
    "df = data.DataReader(['EBAY', 'SPY', 'ORCL', 'GE', 'F', 'PFE'],'google', start, end)\n",
    "df = df['Close']\n",
    "df.head()"
   ]
  },
  {
   "cell_type": "code",
   "execution_count": 187,
   "metadata": {},
   "outputs": [
    {
     "data": {
      "text/html": [
       "<div>\n",
       "<table border=\"1\" class=\"dataframe\">\n",
       "  <thead>\n",
       "    <tr style=\"text-align: right;\">\n",
       "      <th></th>\n",
       "      <th>EBAY</th>\n",
       "      <th>F</th>\n",
       "      <th>GE</th>\n",
       "      <th>ORCL</th>\n",
       "      <th>PFE</th>\n",
       "      <th>SPY</th>\n",
       "    </tr>\n",
       "    <tr>\n",
       "      <th>Date</th>\n",
       "      <th></th>\n",
       "      <th></th>\n",
       "      <th></th>\n",
       "      <th></th>\n",
       "      <th></th>\n",
       "      <th></th>\n",
       "    </tr>\n",
       "  </thead>\n",
       "  <tbody>\n",
       "    <tr>\n",
       "      <th>2000-01-03</th>\n",
       "      <td>NaN</td>\n",
       "      <td>NaN</td>\n",
       "      <td>NaN</td>\n",
       "      <td>NaN</td>\n",
       "      <td>NaN</td>\n",
       "      <td>NaN</td>\n",
       "    </tr>\n",
       "    <tr>\n",
       "      <th>2000-01-04</th>\n",
       "      <td>-0.098713</td>\n",
       "      <td>-0.033982</td>\n",
       "      <td>-0.038572</td>\n",
       "      <td>-0.092529</td>\n",
       "      <td>-0.036089</td>\n",
       "      <td>-0.039909</td>\n",
       "    </tr>\n",
       "    <tr>\n",
       "      <th>2000-01-05</th>\n",
       "      <td>0.064734</td>\n",
       "      <td>0.003795</td>\n",
       "      <td>-0.007519</td>\n",
       "      <td>-0.054284</td>\n",
       "      <td>0.018048</td>\n",
       "      <td>0.001787</td>\n",
       "    </tr>\n",
       "    <tr>\n",
       "      <th>2000-01-06</th>\n",
       "      <td>-0.012379</td>\n",
       "      <td>0.001033</td>\n",
       "      <td>0.016839</td>\n",
       "      <td>-0.060625</td>\n",
       "      <td>0.031439</td>\n",
       "      <td>-0.003148</td>\n",
       "    </tr>\n",
       "    <tr>\n",
       "      <th>2000-01-07</th>\n",
       "      <td>-0.001187</td>\n",
       "      <td>0.071032</td>\n",
       "      <td>0.035837</td>\n",
       "      <td>0.074063</td>\n",
       "      <td>0.062098</td>\n",
       "      <td>0.043398</td>\n",
       "    </tr>\n",
       "  </tbody>\n",
       "</table>\n",
       "</div>"
      ],
      "text/plain": [
       "                EBAY         F        GE      ORCL       PFE       SPY\n",
       "Date                                                                  \n",
       "2000-01-03       NaN       NaN       NaN       NaN       NaN       NaN\n",
       "2000-01-04 -0.098713 -0.033982 -0.038572 -0.092529 -0.036089 -0.039909\n",
       "2000-01-05  0.064734  0.003795 -0.007519 -0.054284  0.018048  0.001787\n",
       "2000-01-06 -0.012379  0.001033  0.016839 -0.060625  0.031439 -0.003148\n",
       "2000-01-07 -0.001187  0.071032  0.035837  0.074063  0.062098  0.043398"
      ]
     },
     "execution_count": 187,
     "metadata": {},
     "output_type": "execute_result"
    }
   ],
   "source": [
    "dfr = np.log( df / df.shift(1))\n",
    "dfr.head()"
   ]
  },
  {
   "cell_type": "code",
   "execution_count": 188,
   "metadata": {},
   "outputs": [
    {
     "data": {
      "text/plain": [
       "0.06379828817210198"
      ]
     },
     "execution_count": 188,
     "metadata": {},
     "output_type": "execute_result"
    }
   ],
   "source": [
    "cov = dfr.cov() * 250\n",
    "EBAY_cov_market = cov.iloc[0,5]\n",
    "EBAY_cov_market"
   ]
  },
  {
   "cell_type": "code",
   "execution_count": 189,
   "metadata": {},
   "outputs": [
    {
     "data": {
      "text/plain": [
       "0.05570032858262678"
      ]
     },
     "execution_count": 189,
     "metadata": {},
     "output_type": "execute_result"
    }
   ],
   "source": [
    "F_cov_market = cov.iloc[1,5]\n",
    "F_cov_market"
   ]
  },
  {
   "cell_type": "code",
   "execution_count": 190,
   "metadata": {},
   "outputs": [
    {
     "data": {
      "text/plain": [
       "0.056413356024732117"
      ]
     },
     "execution_count": 190,
     "metadata": {},
     "output_type": "execute_result"
    }
   ],
   "source": [
    "GE_cov_market = cov.iloc[2,5]\n",
    "GE_cov_market"
   ]
  },
  {
   "cell_type": "code",
   "execution_count": 191,
   "metadata": {},
   "outputs": [
    {
     "data": {
      "text/plain": [
       "0.062432899012862919"
      ]
     },
     "execution_count": 191,
     "metadata": {},
     "output_type": "execute_result"
    }
   ],
   "source": [
    "ORCL_cov_market = cov.iloc[3,5]\n",
    "ORCL_cov_market"
   ]
  },
  {
   "cell_type": "code",
   "execution_count": 192,
   "metadata": {},
   "outputs": [
    {
     "data": {
      "text/plain": [
       "0.034796823511870356"
      ]
     },
     "execution_count": 192,
     "metadata": {},
     "output_type": "execute_result"
    }
   ],
   "source": [
    "PFE_cov_market = cov.iloc[4,5]\n",
    "PFE_cov_market"
   ]
  },
  {
   "cell_type": "markdown",
   "metadata": {},
   "source": [
    "** Beta: **\n",
    "### $$ \n",
    "\\beta_{pg} = \\frac{\\sigma_{pg,m}}{\\sigma_{m}}\n",
    "$$"
   ]
  },
  {
   "cell_type": "code",
   "execution_count": 194,
   "metadata": {},
   "outputs": [
    {
     "data": {
      "text/plain": [
       "0.050011398178183376"
      ]
     },
     "execution_count": 194,
     "metadata": {},
     "output_type": "execute_result"
    }
   ],
   "source": [
    "market_var = dfr['SPY'].var() * 250\n",
    "market_var"
   ]
  },
  {
   "cell_type": "code",
   "execution_count": 195,
   "metadata": {},
   "outputs": [
    {
     "data": {
      "text/plain": [
       "1.275674956032981"
      ]
     },
     "execution_count": 195,
     "metadata": {},
     "output_type": "execute_result"
    }
   ],
   "source": [
    "EBAY_beta = EBAY_cov_market / market_var\n",
    "EBAY_beta"
   ]
  },
  {
   "cell_type": "code",
   "execution_count": 196,
   "metadata": {},
   "outputs": [
    {
     "data": {
      "text/plain": [
       "1.1137526766233283"
      ]
     },
     "execution_count": 196,
     "metadata": {},
     "output_type": "execute_result"
    }
   ],
   "source": [
    "F_beta = F_cov_market / market_var\n",
    "F_beta"
   ]
  },
  {
   "cell_type": "code",
   "execution_count": 197,
   "metadata": {},
   "outputs": [
    {
     "data": {
      "text/plain": [
       "1.1280099753208157"
      ]
     },
     "execution_count": 197,
     "metadata": {},
     "output_type": "execute_result"
    }
   ],
   "source": [
    "GE_beta = GE_cov_market / market_var\n",
    "GE_beta"
   ]
  },
  {
   "cell_type": "code",
   "execution_count": 198,
   "metadata": {},
   "outputs": [
    {
     "data": {
      "text/plain": [
       "1.2483733966089796"
      ]
     },
     "execution_count": 198,
     "metadata": {},
     "output_type": "execute_result"
    }
   ],
   "source": [
    "ORCL_beta = ORCL_cov_market / market_var\n",
    "ORCL_beta"
   ]
  },
  {
   "cell_type": "code",
   "execution_count": 199,
   "metadata": {},
   "outputs": [
    {
     "data": {
      "text/plain": [
       "0.69577785823732241"
      ]
     },
     "execution_count": 199,
     "metadata": {},
     "output_type": "execute_result"
    }
   ],
   "source": [
    "PFE_beta = PFE_cov_market / market_var\n",
    "PFE_beta"
   ]
  },
  {
   "cell_type": "markdown",
   "metadata": {},
   "source": [
    "- Based on observations made for the overlapping 10 years period between the S&P500 and the 5 stocks, Rank them in their expected order out outperformance (Alpha Generation expectancy) for the next 5 years (2011-2015)\n",
    "- Compare and analyze the difference between expected Alpha and Actual Alpha generated in the 2011-2015 period.\n",
    "\n",
    "Assume a risk-free rate of 2.5% and a risk premium of 5%\n",
    "\n",
    "**Calculate the expected returns of stocks (CAPM):**\n",
    "### $$\n",
    "\\overline{r_{pg}} = r_f + \\beta_{pg}(\\overline{r_{m}} - r_f) \n",
    "$$"
   ]
  },
  {
   "cell_type": "code",
   "execution_count": 202,
   "metadata": {},
   "outputs": [
    {
     "name": "stdout",
     "output_type": "stream",
     "text": [
      "(8.8783747801649042, 8.068763383116643, 8.1400498766040794, 8.7418669830448987, 5.9788892911866123)\n"
     ]
    }
   ],
   "source": [
    "EBAY_er = (0.025 + EBAY_beta * 0.05) * 100\n",
    "F_er = (0.025 + F_beta * 0.05) * 100\n",
    "GE_er = (0.025 + GE_beta * 0.05) * 100\n",
    "ORCL_er = (0.025 + ORCL_beta * 0.05) * 100\n",
    "PFE_er = (0.025 + PFE_beta * 0.05) * 100\n",
    "\n",
    "print(EBAY_er,F_er,GE_er,ORCL_er,PFE_er)"
   ]
  },
  {
   "cell_type": "code",
   "execution_count": 232,
   "metadata": {},
   "outputs": [
    {
     "name": "stdout",
     "output_type": "stream",
     "text": [
      "(0.057594626978515868, 0.064881129551950245, 0.064239551110563314, 0.05882319715259593, 0.083689996379320508)\n"
     ]
    }
   ],
   "source": [
    "expRtM = 0.07\n",
    "rfr = .025\n",
    "\n",
    "#Calc Alpha\n",
    "EBAY_A = expRet - rfr - EBAY_beta * (expRtM - rfr)\n",
    "F_A = expRet - rfr - F_beta * (expRtM - rfr)\n",
    "GE_A = expRet - rfr - GE_beta * (expRtM - rfr)\n",
    "ORCL_A = expRet - rfr - ORCL_beta * (expRtM - rfr)\n",
    "PFE_A = expRet - rfr - PFE_beta * (expRtM - rfr)\n",
    "print(EBAY_A,F_A,GE_A,ORCL_A,PFE_A)\n",
    "##Actual ALphas from 2000 to 2010"
   ]
  },
  {
   "cell_type": "markdown",
   "metadata": {},
   "source": [
    "Ranking\n",
    "- 1. PFR 8.36%\n",
    "- 2. F   6.5%\n",
    "- 3. GE  6.42%\n",
    "- 4. ORLC 5.88%\n",
    "- 5. EBAY 5.75%"
   ]
  },
  {
   "cell_type": "code",
   "execution_count": 4,
   "metadata": {},
   "outputs": [
    {
     "data": {
      "text/html": [
       "<div>\n",
       "<table border=\"1\" class=\"dataframe\">\n",
       "  <thead>\n",
       "    <tr style=\"text-align: right;\">\n",
       "      <th></th>\n",
       "      <th>EBAY</th>\n",
       "      <th>F</th>\n",
       "      <th>GE</th>\n",
       "      <th>ORCL</th>\n",
       "      <th>PFE</th>\n",
       "      <th>SPY</th>\n",
       "    </tr>\n",
       "    <tr>\n",
       "      <th>Date</th>\n",
       "      <th></th>\n",
       "      <th></th>\n",
       "      <th></th>\n",
       "      <th></th>\n",
       "      <th></th>\n",
       "      <th></th>\n",
       "    </tr>\n",
       "  </thead>\n",
       "  <tbody>\n",
       "    <tr>\n",
       "      <th>2016-12-23</th>\n",
       "      <td>29.79</td>\n",
       "      <td>12.46</td>\n",
       "      <td>31.88</td>\n",
       "      <td>38.78</td>\n",
       "      <td>32.48</td>\n",
       "      <td>225.71</td>\n",
       "    </tr>\n",
       "    <tr>\n",
       "      <th>2016-12-27</th>\n",
       "      <td>30.24</td>\n",
       "      <td>12.39</td>\n",
       "      <td>31.90</td>\n",
       "      <td>38.82</td>\n",
       "      <td>32.53</td>\n",
       "      <td>226.27</td>\n",
       "    </tr>\n",
       "    <tr>\n",
       "      <th>2016-12-28</th>\n",
       "      <td>30.01</td>\n",
       "      <td>12.25</td>\n",
       "      <td>31.70</td>\n",
       "      <td>38.68</td>\n",
       "      <td>32.35</td>\n",
       "      <td>224.40</td>\n",
       "    </tr>\n",
       "    <tr>\n",
       "      <th>2016-12-29</th>\n",
       "      <td>29.98</td>\n",
       "      <td>12.23</td>\n",
       "      <td>31.71</td>\n",
       "      <td>38.69</td>\n",
       "      <td>32.49</td>\n",
       "      <td>224.35</td>\n",
       "    </tr>\n",
       "    <tr>\n",
       "      <th>2016-12-30</th>\n",
       "      <td>29.69</td>\n",
       "      <td>12.13</td>\n",
       "      <td>31.60</td>\n",
       "      <td>38.45</td>\n",
       "      <td>32.48</td>\n",
       "      <td>223.53</td>\n",
       "    </tr>\n",
       "  </tbody>\n",
       "</table>\n",
       "</div>"
      ],
      "text/plain": [
       "             EBAY      F     GE   ORCL    PFE     SPY\n",
       "Date                                                 \n",
       "2016-12-23  29.79  12.46  31.88  38.78  32.48  225.71\n",
       "2016-12-27  30.24  12.39  31.90  38.82  32.53  226.27\n",
       "2016-12-28  30.01  12.25  31.70  38.68  32.35  224.40\n",
       "2016-12-29  29.98  12.23  31.71  38.69  32.49  224.35\n",
       "2016-12-30  29.69  12.13  31.60  38.45  32.48  223.53"
      ]
     },
     "execution_count": 4,
     "metadata": {},
     "output_type": "execute_result"
    }
   ],
   "source": [
    "import pandas as pd\n",
    "from pandas_datareader import data, wb\n",
    "import numpy as np\n",
    "import datetime\n",
    "%matplotlib inline\n",
    "start = datetime.datetime(2011, 1, 1)\n",
    "end = datetime.datetime(2017, 1, 1)\n",
    "dr = data.DataReader(['EBAY', 'SPY', 'ORCL', 'GE', 'F', 'PFE'],'google', start, end)\n",
    "dr = dr['Close']\n",
    "dr.tail()"
   ]
  },
  {
   "cell_type": "code",
   "execution_count": 5,
   "metadata": {},
   "outputs": [
    {
     "name": "stdout",
     "output_type": "stream",
     "text": [
      "-0.044837850439\n"
     ]
    }
   ],
   "source": [
    "#mkt Return\n",
    "#Spy Start value = 127.05\n",
    "#Spy End value = 223.53\n",
    "#223.53 - 127.05 = \n",
    "CAGR = (96.48/127.05)**(1/6.0)-1\n",
    "print(CAGR)"
   ]
  },
  {
   "cell_type": "code",
   "execution_count": 6,
   "metadata": {},
   "outputs": [
    {
     "data": {
      "text/html": [
       "<div>\n",
       "<table border=\"1\" class=\"dataframe\">\n",
       "  <thead>\n",
       "    <tr style=\"text-align: right;\">\n",
       "      <th></th>\n",
       "      <th>EBAY</th>\n",
       "      <th>F</th>\n",
       "      <th>GE</th>\n",
       "      <th>ORCL</th>\n",
       "      <th>PFE</th>\n",
       "      <th>SPY</th>\n",
       "    </tr>\n",
       "    <tr>\n",
       "      <th>Date</th>\n",
       "      <th></th>\n",
       "      <th></th>\n",
       "      <th></th>\n",
       "      <th></th>\n",
       "      <th></th>\n",
       "      <th></th>\n",
       "    </tr>\n",
       "  </thead>\n",
       "  <tbody>\n",
       "    <tr>\n",
       "      <th>2011-01-03</th>\n",
       "      <td>NaN</td>\n",
       "      <td>NaN</td>\n",
       "      <td>NaN</td>\n",
       "      <td>NaN</td>\n",
       "      <td>NaN</td>\n",
       "      <td>NaN</td>\n",
       "    </tr>\n",
       "    <tr>\n",
       "      <th>2011-01-04</th>\n",
       "      <td>-0.007349</td>\n",
       "      <td>0.007508</td>\n",
       "      <td>0.017892</td>\n",
       "      <td>-0.004437</td>\n",
       "      <td>0.017382</td>\n",
       "      <td>-0.000551</td>\n",
       "    </tr>\n",
       "    <tr>\n",
       "      <th>2011-01-05</th>\n",
       "      <td>0.009091</td>\n",
       "      <td>0.028922</td>\n",
       "      <td>0.001611</td>\n",
       "      <td>-0.014076</td>\n",
       "      <td>0.006648</td>\n",
       "      <td>0.005184</td>\n",
       "    </tr>\n",
       "    <tr>\n",
       "      <th>2011-01-06</th>\n",
       "      <td>-0.010849</td>\n",
       "      <td>0.018278</td>\n",
       "      <td>-0.004301</td>\n",
       "      <td>0.004179</td>\n",
       "      <td>0.003858</td>\n",
       "      <td>-0.001961</td>\n",
       "    </tr>\n",
       "    <tr>\n",
       "      <th>2011-01-07</th>\n",
       "      <td>-0.025661</td>\n",
       "      <td>0.002740</td>\n",
       "      <td>-0.007029</td>\n",
       "      <td>-0.004502</td>\n",
       "      <td>0.008762</td>\n",
       "      <td>-0.001964</td>\n",
       "    </tr>\n",
       "  </tbody>\n",
       "</table>\n",
       "</div>"
      ],
      "text/plain": [
       "                EBAY         F        GE      ORCL       PFE       SPY\n",
       "Date                                                                  \n",
       "2011-01-03       NaN       NaN       NaN       NaN       NaN       NaN\n",
       "2011-01-04 -0.007349  0.007508  0.017892 -0.004437  0.017382 -0.000551\n",
       "2011-01-05  0.009091  0.028922  0.001611 -0.014076  0.006648  0.005184\n",
       "2011-01-06 -0.010849  0.018278 -0.004301  0.004179  0.003858 -0.001961\n",
       "2011-01-07 -0.025661  0.002740 -0.007029 -0.004502  0.008762 -0.001964"
      ]
     },
     "execution_count": 6,
     "metadata": {},
     "output_type": "execute_result"
    }
   ],
   "source": [
    "dr = np.log( dr / dr.shift(1))\n",
    "dr.head()"
   ]
  },
  {
   "cell_type": "code",
   "execution_count": 7,
   "metadata": {},
   "outputs": [
    {
     "ename": "NameError",
     "evalue": "name 'expRet' is not defined",
     "output_type": "error",
     "traceback": [
      "\u001b[1;31m---------------------------------------------------------------------------\u001b[0m",
      "\u001b[1;31mNameError\u001b[0m                                 Traceback (most recent call last)",
      "\u001b[1;32m<ipython-input-7-d93e2aa5eddb>\u001b[0m in \u001b[0;36m<module>\u001b[1;34m()\u001b[0m\n\u001b[0;32m      3\u001b[0m \u001b[1;33m\u001b[0m\u001b[0m\n\u001b[0;32m      4\u001b[0m \u001b[1;31m#Calc Alpha\u001b[0m\u001b[1;33m\u001b[0m\u001b[1;33m\u001b[0m\u001b[0m\n\u001b[1;32m----> 5\u001b[1;33m \u001b[0mEBAY_A2\u001b[0m \u001b[1;33m=\u001b[0m \u001b[0mexpRet\u001b[0m \u001b[1;33m-\u001b[0m \u001b[0mrfr\u001b[0m \u001b[1;33m-\u001b[0m \u001b[0mEBAY_beta\u001b[0m \u001b[1;33m*\u001b[0m \u001b[1;33m(\u001b[0m\u001b[0mRtM\u001b[0m \u001b[1;33m-\u001b[0m \u001b[0mrfr\u001b[0m\u001b[1;33m)\u001b[0m\u001b[1;33m\u001b[0m\u001b[0m\n\u001b[0m\u001b[0;32m      6\u001b[0m \u001b[0mF_A2\u001b[0m \u001b[1;33m=\u001b[0m \u001b[0mexpRet\u001b[0m \u001b[1;33m-\u001b[0m \u001b[0mrfr\u001b[0m \u001b[1;33m-\u001b[0m \u001b[0mF_beta\u001b[0m \u001b[1;33m*\u001b[0m \u001b[1;33m(\u001b[0m\u001b[0mRtM\u001b[0m \u001b[1;33m-\u001b[0m \u001b[0mrfr\u001b[0m\u001b[1;33m)\u001b[0m\u001b[1;33m\u001b[0m\u001b[0m\n\u001b[0;32m      7\u001b[0m \u001b[0mGE_A2\u001b[0m \u001b[1;33m=\u001b[0m \u001b[0mexpRet\u001b[0m \u001b[1;33m-\u001b[0m \u001b[0mrfr\u001b[0m \u001b[1;33m-\u001b[0m \u001b[0mGE_beta\u001b[0m \u001b[1;33m*\u001b[0m \u001b[1;33m(\u001b[0m\u001b[0mRtM\u001b[0m \u001b[1;33m-\u001b[0m \u001b[0mrfr\u001b[0m\u001b[1;33m)\u001b[0m\u001b[1;33m\u001b[0m\u001b[0m\n",
      "\u001b[1;31mNameError\u001b[0m: name 'expRet' is not defined"
     ]
    }
   ],
   "source": [
    "RtM = CAGR\n",
    "rfr = .025\n",
    "\n",
    "#Calc Alpha\n",
    "EBAY_A2 = expRet - rfr - EBAY_beta * (RtM - rfr)\n",
    "F_A2 = expRet - rfr - F_beta * (RtM - rfr)\n",
    "GE_A2 = expRet - rfr - GE_beta * (RtM - rfr)\n",
    "ORCL_A2 = expRet - rfr - ORCL_beta * (RtM - rfr)\n",
    "PFE_A2 = expRet - rfr - PFE_beta * (RtM - rfr)\n",
    "print(EBAY_A2,F_A2,GE_A2,ORCL_A2,PFE_A2)\n",
    "##Actual ALphas from 2011 to 2017"
   ]
  },
  {
   "cell_type": "markdown",
   "metadata": {},
   "source": [
    "** Actual Alpha generated by all stcosk were higher than expected**"
   ]
  },
  {
   "cell_type": "markdown",
   "metadata": {},
   "source": [
    "Download data for each of the following stocks for last 10 years till 2010 (2000-2010) and identify the frequency and duration (in days) of Bull and Bear Periods – EBAY, ORCL, GE, GM, PFE. Also calculate the historical Beta of these stocks"
   ]
  },
  {
   "cell_type": "code",
   "execution_count": null,
   "metadata": {},
   "outputs": [],
   "source": [
    "import pandas as pd\n",
    "from pandas_datareader import data, wb\n",
    "import numpy as np\n",
    "import datetime\n",
    "%matplotlib inline\n",
    "start = datetime.datetime(2000, 1, 1)\n",
    "end = datetime.datetime(2017, 1, 1)\n",
    "dt = data.DataReader(['EBAY', 'ORCL', 'GE', 'F', 'PFE'],'google', start, end)\n",
    "dt = dt['Close']\n",
    "dt.tail()"
   ]
  },
  {
   "cell_type": "code",
   "execution_count": null,
   "metadata": {
    "collapsed": true
   },
   "outputs": [],
   "source": []
  },
  {
   "cell_type": "code",
   "execution_count": null,
   "metadata": {},
   "outputs": [],
   "source": [
    "# Create long simple moving average over the long window\n",
    "signals['sigE'] = dt['EBAY'].rolling(window=200, min_periods=1, center=False).mean()\n",
    "signals['sigF'] = dt['F'].rolling(window=200, min_periods=1, center=False).mean()\n",
    "signals['sigGE'] = dt['GE'].rolling(window=200, min_periods=1, center=False).mean()\n",
    "signals['sigO'] = dt['ORCL'].rolling(window=200, min_periods=1, center=False).mean()\n",
    "signals['sigP'] = dt['PFE'].rolling(window=200, min_periods=1, center=False).mean()\n",
    "signals.head()"
   ]
  },
  {
   "cell_type": "code",
   "execution_count": null,
   "metadata": {},
   "outputs": [],
   "source": [
    "de = pd.merge(dt, signals, right_index=True, left_index=True)\n",
    "de.head()"
   ]
  },
  {
   "cell_type": "code",
   "execution_count": null,
   "metadata": {},
   "outputs": [],
   "source": [
    "#Initialize the `signals` DataFrame with the `signal` column\n",
    "de['E_l'] = np.where(de['EBAY'] > de['sigE'], 1, -1)\n",
    "de['F_l'] = np.where(de['F'] > de['sigF'], 1, -1)\n",
    "de['G_l'] = np.where(de['GE'] > de['sigGE'], 1, -1)\n",
    "de['O_l'] = np.where(de['ORCL'] > de['sigO'], 1, -1)\n",
    "de['P_l'] = np.where(de['PFE'] > de['sigP'], 1, -1)\n",
    "de.head()\n"
   ]
  },
  {
   "cell_type": "code",
   "execution_count": null,
   "metadata": {
    "collapsed": true
   },
   "outputs": [],
   "source": []
  }
 ],
 "metadata": {
  "kernelspec": {
   "display_name": "Python 2",
   "language": "python",
   "name": "python2"
  },
  "language_info": {
   "codemirror_mode": {
    "name": "ipython",
    "version": 2
   },
   "file_extension": ".py",
   "mimetype": "text/x-python",
   "name": "python",
   "nbconvert_exporter": "python",
   "pygments_lexer": "ipython2",
   "version": "2.7.13"
  }
 },
 "nbformat": 4,
 "nbformat_minor": 2
}
